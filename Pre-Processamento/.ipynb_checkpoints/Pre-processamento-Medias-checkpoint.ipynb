{
 "cells": [
  {
   "cell_type": "code",
   "execution_count": 1,
   "metadata": {},
   "outputs": [],
   "source": [
    "# Surgio a ideia de utilzar medias entre \n",
    "import numpy as np\n",
    "import pandas as pd\n",
    "#\n",
    "df = pd.read_csv('weatherAUS.csv')"
   ]
  },
  {
   "cell_type": "code",
   "execution_count": 2,
   "metadata": {},
   "outputs": [
    {
     "data": {
      "text/plain": [
       "Pressure9am     128179\n",
       "Pressure3pm     128212\n",
       "WindSpeed9am    140845\n",
       "WindSpeed3pm    139563\n",
       "Humidity9am     140419\n",
       "Humidity3pm     138583\n",
       "Cloud9am         88536\n",
       "Cloud3pm         85099\n",
       "Temp9am         141289\n",
       "Temp3pm         139467\n",
       "dtype: int64"
      ]
     },
     "execution_count": 2,
     "metadata": {},
     "output_type": "execute_result"
    }
   ],
   "source": [
    "# Hipotese : Usar um valor médio para recuperar valores perdidos.\n",
    "### Valores que podemos fazer media !\n",
    "info = df[['Pressure9am','Pressure3pm','WindSpeed9am','WindSpeed3pm','Humidity9am','Humidity3pm','Cloud9am','Cloud3pm','Temp9am','Temp3pm']]\n",
    "info.count()"
   ]
  },
  {
   "cell_type": "code",
   "execution_count": 3,
   "metadata": {},
   "outputs": [],
   "source": [
    "## Lidar melhor com NaN pandas\n",
    "df = df.fillna('None')"
   ]
  },
  {
   "cell_type": "code",
   "execution_count": 4,
   "metadata": {},
   "outputs": [],
   "source": [
    "### Function que retorna uma media entre 9am e 3pm. Se um valor desses for null retornar apenas o não nulo entre eles.\n",
    "def media (x,y):\n",
    "    if x != 'None' and y != 'None':\n",
    "        return (x+y)/2\n",
    "    elif x == 'None' and y!= 'None':\n",
    "        return y\n",
    "    elif y == 'None' and x!= 'None':\n",
    "        return x\n",
    "    else:\n",
    "        return None"
   ]
  },
  {
   "cell_type": "code",
   "execution_count": 5,
   "metadata": {},
   "outputs": [],
   "source": [
    "## apply Media para Temp / Pressure / WindSpeed / Cloud / Humidity\n",
    "df['Temp_Media'] = df.apply(lambda x: media(x['Temp9am'], x['Temp3pm']), axis=1)\n",
    "df['Pressure_Media'] = df.apply(lambda x: media(x['Pressure9am'], x['Pressure3pm']), axis=1)\n",
    "df['WindSpeed_Media'] = df.apply(lambda x: media(x['WindSpeed9am'], x['WindSpeed3pm']), axis=1)\n",
    "df['Cloud_Media'] = df.apply(lambda x: media(x['Cloud9am'], x['Cloud3pm']), axis=1)\n",
    "df['Humidity_Media'] = df.apply(lambda x: media(x['Humidity9am'], x['Humidity3pm']), axis=1)"
   ]
  },
  {
   "cell_type": "code",
   "execution_count": 6,
   "metadata": {
    "scrolled": false
   },
   "outputs": [
    {
     "data": {
      "text/plain": [
       "Temp_Media         141840\n",
       "Pressure_Media     128402\n",
       "WindSpeed_Media    141312\n",
       "Humidity_Media     141095\n",
       "Cloud_Media         92516\n",
       "dtype: int64"
      ]
     },
     "execution_count": 6,
     "metadata": {},
     "output_type": "execute_result"
    }
   ],
   "source": [
    "# Resultado das Medias\n",
    "df[['Temp_Media','Pressure_Media','WindSpeed_Media','Humidity_Media','Cloud_Media']].count()"
   ]
  },
  {
   "cell_type": "code",
   "execution_count": 7,
   "metadata": {},
   "outputs": [],
   "source": [
    "# Function para transformar Date em estação do ano\n",
    "def season (x):\n",
    "    x = str(x)\n",
    "    new_date = x.split('-')\n",
    "    mes = int(new_date[1])\n",
    "    dia = int(new_date[2])\n",
    "    \n",
    "    if (mes < 3):\n",
    "        return 'Summer'\n",
    "    elif (mes == 3 ) and (dia < 20) :\n",
    "        return 'Summer'\n",
    "    elif (mes < 6):\n",
    "        return 'Autumn'\n",
    "    elif (mes == 6) and (dia < 21):\n",
    "        return 'Autumn'\n",
    "    elif (mes < 9):\n",
    "        return 'Winter'\n",
    "    elif (mes == 9) and (dia < 23):\n",
    "        return 'Winter'\n",
    "    elif (mes <12):\n",
    "        return 'Spring'\n",
    "    elif (mes == 12) and (dia < 22):\n",
    "        return 'Spring'\n",
    "    else:\n",
    "        return 'Summer'"
   ]
  },
  {
   "cell_type": "code",
   "execution_count": 8,
   "metadata": {},
   "outputs": [],
   "source": [
    "#Apply func Season\n",
    "df['Season'] = df['Date'].apply(season)"
   ]
  },
  {
   "cell_type": "code",
   "execution_count": 9,
   "metadata": {},
   "outputs": [],
   "source": [
    "# Remover Colunas passadas\n",
    "df.drop(['WindGustDir','WindDir9am','WindDir3pm','Temp3pm','Temp9am','RISK_MM','Location','Date','Pressure9am','Pressure3pm','Humidity9am','Humidity3pm','WindSpeed9am','WindSpeed3pm','Cloud3pm','Cloud9am'],axis =1, inplace = True)"
   ]
  },
  {
   "cell_type": "code",
   "execution_count": 15,
   "metadata": {},
   "outputs": [],
   "source": [
    "# Remover linhas com nulos\n",
    "df = df[df != 'None']\n",
    "df = df.dropna()\n",
    "\n",
    "# Arredondar valores\n",
    "df = df.round(2)"
   ]
  },
  {
   "cell_type": "code",
   "execution_count": 16,
   "metadata": {},
   "outputs": [],
   "source": [
    "# Exportar Dataframe para CSV\n",
    "df.to_csv('baseMedias.csv' , index = False)"
   ]
  },
  {
   "cell_type": "code",
   "execution_count": 12,
   "metadata": {
    "scrolled": true
   },
   "outputs": [],
   "source": [
    "## PASSADO 58090\n",
    "## NOVO 60029"
   ]
  }
 ],
 "metadata": {
  "kernelspec": {
   "display_name": "Python 3",
   "language": "python",
   "name": "python3"
  },
  "language_info": {
   "codemirror_mode": {
    "name": "ipython",
    "version": 3
   },
   "file_extension": ".py",
   "mimetype": "text/x-python",
   "name": "python",
   "nbconvert_exporter": "python",
   "pygments_lexer": "ipython3",
   "version": "3.7.1"
  }
 },
 "nbformat": 4,
 "nbformat_minor": 2
}
