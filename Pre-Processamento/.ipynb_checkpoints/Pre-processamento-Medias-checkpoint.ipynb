{
 "cells": [
  {
   "cell_type": "code",
   "execution_count": 1,
   "metadata": {},
   "outputs": [
    {
     "data": {
      "text/html": [
       "<div>\n",
       "<style scoped>\n",
       "    .dataframe tbody tr th:only-of-type {\n",
       "        vertical-align: middle;\n",
       "    }\n",
       "\n",
       "    .dataframe tbody tr th {\n",
       "        vertical-align: top;\n",
       "    }\n",
       "\n",
       "    .dataframe thead th {\n",
       "        text-align: right;\n",
       "    }\n",
       "</style>\n",
       "<table border=\"1\" class=\"dataframe\">\n",
       "  <thead>\n",
       "    <tr style=\"text-align: right;\">\n",
       "      <th></th>\n",
       "      <th>Date</th>\n",
       "      <th>Location</th>\n",
       "      <th>MinTemp</th>\n",
       "      <th>MaxTemp</th>\n",
       "      <th>Rainfall</th>\n",
       "      <th>Evaporation</th>\n",
       "      <th>Sunshine</th>\n",
       "      <th>WindGustDir</th>\n",
       "      <th>WindGustSpeed</th>\n",
       "      <th>WindDir9am</th>\n",
       "      <th>...</th>\n",
       "      <th>Humidity3pm</th>\n",
       "      <th>Pressure9am</th>\n",
       "      <th>Pressure3pm</th>\n",
       "      <th>Cloud9am</th>\n",
       "      <th>Cloud3pm</th>\n",
       "      <th>Temp9am</th>\n",
       "      <th>Temp3pm</th>\n",
       "      <th>RainToday</th>\n",
       "      <th>RISK_MM</th>\n",
       "      <th>RainTomorrow</th>\n",
       "    </tr>\n",
       "  </thead>\n",
       "  <tbody>\n",
       "    <tr>\n",
       "      <th>0</th>\n",
       "      <td>2008-12-01</td>\n",
       "      <td>Albury</td>\n",
       "      <td>13.4</td>\n",
       "      <td>22.9</td>\n",
       "      <td>0.6</td>\n",
       "      <td>NaN</td>\n",
       "      <td>NaN</td>\n",
       "      <td>W</td>\n",
       "      <td>44.0</td>\n",
       "      <td>W</td>\n",
       "      <td>...</td>\n",
       "      <td>22.0</td>\n",
       "      <td>1007.7</td>\n",
       "      <td>1007.1</td>\n",
       "      <td>8.0</td>\n",
       "      <td>NaN</td>\n",
       "      <td>16.9</td>\n",
       "      <td>21.8</td>\n",
       "      <td>No</td>\n",
       "      <td>0.0</td>\n",
       "      <td>No</td>\n",
       "    </tr>\n",
       "    <tr>\n",
       "      <th>1</th>\n",
       "      <td>2008-12-02</td>\n",
       "      <td>Albury</td>\n",
       "      <td>7.4</td>\n",
       "      <td>25.1</td>\n",
       "      <td>0.0</td>\n",
       "      <td>NaN</td>\n",
       "      <td>NaN</td>\n",
       "      <td>WNW</td>\n",
       "      <td>44.0</td>\n",
       "      <td>NNW</td>\n",
       "      <td>...</td>\n",
       "      <td>25.0</td>\n",
       "      <td>1010.6</td>\n",
       "      <td>1007.8</td>\n",
       "      <td>NaN</td>\n",
       "      <td>NaN</td>\n",
       "      <td>17.2</td>\n",
       "      <td>24.3</td>\n",
       "      <td>No</td>\n",
       "      <td>0.0</td>\n",
       "      <td>No</td>\n",
       "    </tr>\n",
       "    <tr>\n",
       "      <th>2</th>\n",
       "      <td>2008-12-03</td>\n",
       "      <td>Albury</td>\n",
       "      <td>12.9</td>\n",
       "      <td>25.7</td>\n",
       "      <td>0.0</td>\n",
       "      <td>NaN</td>\n",
       "      <td>NaN</td>\n",
       "      <td>WSW</td>\n",
       "      <td>46.0</td>\n",
       "      <td>W</td>\n",
       "      <td>...</td>\n",
       "      <td>30.0</td>\n",
       "      <td>1007.6</td>\n",
       "      <td>1008.7</td>\n",
       "      <td>NaN</td>\n",
       "      <td>2.0</td>\n",
       "      <td>21.0</td>\n",
       "      <td>23.2</td>\n",
       "      <td>No</td>\n",
       "      <td>0.0</td>\n",
       "      <td>No</td>\n",
       "    </tr>\n",
       "    <tr>\n",
       "      <th>3</th>\n",
       "      <td>2008-12-04</td>\n",
       "      <td>Albury</td>\n",
       "      <td>9.2</td>\n",
       "      <td>28.0</td>\n",
       "      <td>0.0</td>\n",
       "      <td>NaN</td>\n",
       "      <td>NaN</td>\n",
       "      <td>NE</td>\n",
       "      <td>24.0</td>\n",
       "      <td>SE</td>\n",
       "      <td>...</td>\n",
       "      <td>16.0</td>\n",
       "      <td>1017.6</td>\n",
       "      <td>1012.8</td>\n",
       "      <td>NaN</td>\n",
       "      <td>NaN</td>\n",
       "      <td>18.1</td>\n",
       "      <td>26.5</td>\n",
       "      <td>No</td>\n",
       "      <td>1.0</td>\n",
       "      <td>No</td>\n",
       "    </tr>\n",
       "    <tr>\n",
       "      <th>4</th>\n",
       "      <td>2008-12-05</td>\n",
       "      <td>Albury</td>\n",
       "      <td>17.5</td>\n",
       "      <td>32.3</td>\n",
       "      <td>1.0</td>\n",
       "      <td>NaN</td>\n",
       "      <td>NaN</td>\n",
       "      <td>W</td>\n",
       "      <td>41.0</td>\n",
       "      <td>ENE</td>\n",
       "      <td>...</td>\n",
       "      <td>33.0</td>\n",
       "      <td>1010.8</td>\n",
       "      <td>1006.0</td>\n",
       "      <td>7.0</td>\n",
       "      <td>8.0</td>\n",
       "      <td>17.8</td>\n",
       "      <td>29.7</td>\n",
       "      <td>No</td>\n",
       "      <td>0.2</td>\n",
       "      <td>No</td>\n",
       "    </tr>\n",
       "  </tbody>\n",
       "</table>\n",
       "<p>5 rows × 24 columns</p>\n",
       "</div>"
      ],
      "text/plain": [
       "         Date Location  MinTemp  MaxTemp  Rainfall  Evaporation  Sunshine  \\\n",
       "0  2008-12-01   Albury     13.4     22.9       0.6          NaN       NaN   \n",
       "1  2008-12-02   Albury      7.4     25.1       0.0          NaN       NaN   \n",
       "2  2008-12-03   Albury     12.9     25.7       0.0          NaN       NaN   \n",
       "3  2008-12-04   Albury      9.2     28.0       0.0          NaN       NaN   \n",
       "4  2008-12-05   Albury     17.5     32.3       1.0          NaN       NaN   \n",
       "\n",
       "  WindGustDir  WindGustSpeed WindDir9am      ...      Humidity3pm  \\\n",
       "0           W           44.0          W      ...             22.0   \n",
       "1         WNW           44.0        NNW      ...             25.0   \n",
       "2         WSW           46.0          W      ...             30.0   \n",
       "3          NE           24.0         SE      ...             16.0   \n",
       "4           W           41.0        ENE      ...             33.0   \n",
       "\n",
       "   Pressure9am  Pressure3pm  Cloud9am  Cloud3pm  Temp9am  Temp3pm  RainToday  \\\n",
       "0       1007.7       1007.1       8.0       NaN     16.9     21.8         No   \n",
       "1       1010.6       1007.8       NaN       NaN     17.2     24.3         No   \n",
       "2       1007.6       1008.7       NaN       2.0     21.0     23.2         No   \n",
       "3       1017.6       1012.8       NaN       NaN     18.1     26.5         No   \n",
       "4       1010.8       1006.0       7.0       8.0     17.8     29.7         No   \n",
       "\n",
       "   RISK_MM  RainTomorrow  \n",
       "0      0.0            No  \n",
       "1      0.0            No  \n",
       "2      0.0            No  \n",
       "3      1.0            No  \n",
       "4      0.2            No  \n",
       "\n",
       "[5 rows x 24 columns]"
      ]
     },
     "execution_count": 1,
     "metadata": {},
     "output_type": "execute_result"
    }
   ],
   "source": [
    "# Surgio a ideia de utilzar medias entre \n",
    "import numpy as np\n",
    "import pandas as pd\n",
    "#\n",
    "df = pd.read_csv('weatherAUS.csv')\n",
    "df.head()"
   ]
  },
  {
   "cell_type": "code",
   "execution_count": 2,
   "metadata": {},
   "outputs": [
    {
     "data": {
      "text/plain": [
       "Pressure9am     128179\n",
       "Pressure3pm     128212\n",
       "WindSpeed9am    140845\n",
       "WindSpeed3pm    139563\n",
       "Humidity9am     140419\n",
       "Humidity3pm     138583\n",
       "Cloud9am         88536\n",
       "Cloud3pm         85099\n",
       "Temp9am         141289\n",
       "Temp3pm         139467\n",
       "dtype: int64"
      ]
     },
     "execution_count": 2,
     "metadata": {},
     "output_type": "execute_result"
    }
   ],
   "source": [
    "# Hipotese : Usar um valor médio para recuperar valores perdidos.\n",
    "# Fizemos uma media entre 9am e 3pm se um valor desses for null retornar apenas o não nulo entre eles.\n",
    "info = df[['Pressure9am','Pressure3pm','WindSpeed9am','WindSpeed3pm','Humidity9am','Humidity3pm','Cloud9am','Cloud3pm','Temp9am','Temp3pm']]\n",
    "info.count()"
   ]
  },
  {
   "cell_type": "code",
   "execution_count": 3,
   "metadata": {},
   "outputs": [],
   "source": [
    "# If statement ======= Temperatura media \n",
    "conditions = [\n",
    "    (df['Temp9am'].notnull()) & (df['Temp3pm'].notnull()),\n",
    "    (df['Temp9am'].isnull()) & (df['Temp3pm'].notnull()),\n",
    "    (df['Temp9am'].notnull()) & (df['Temp3pm'].isnull())]\n",
    "choices = [\n",
    "    (df['Temp9am'] + df['Temp3pm'])/2,\n",
    "    df.Temp9am.fillna(df.Temp3pm),\n",
    "    df.Temp3pm.fillna(df.Temp9am)]\n",
    "df['Temp_Media'] = np.select(conditions, choices)\n"
   ]
  },
  {
   "cell_type": "code",
   "execution_count": 4,
   "metadata": {},
   "outputs": [],
   "source": [
    "# If statement =============== Pressure Media\n",
    "conditions = [\n",
    "    (df['Pressure9am'].notnull()) & (df['Pressure3pm'].notnull()),\n",
    "    (df['Pressure9am'].isnull()) & (df['Pressure3pm'].notnull()),\n",
    "    (df['Pressure9am'].notnull()) & (df['Pressure3pm'].isnull())]\n",
    "choices = [\n",
    "    (df['Pressure9am'] + df['Pressure3pm'])/2,\n",
    "    df.Pressure9am.fillna(df.Pressure3pm),\n",
    "    df.Pressure3pm.fillna(df.Pressure9am)]\n",
    "df['Pressure_Media'] = np.select(conditions, choices, default = None)"
   ]
  },
  {
   "cell_type": "code",
   "execution_count": 5,
   "metadata": {},
   "outputs": [],
   "source": [
    "# If statement ===============  WINDSpeed_Media\n",
    "conditions = [\n",
    "    (df['WindSpeed9am'].notnull()) & (df['WindSpeed3pm'].notnull()),\n",
    "    (df['WindSpeed9am'].isnull()) & (df['WindSpeed3pm'].notnull()),\n",
    "    (df['WindSpeed9am'].notnull()) & (df['WindSpeed3pm'].isnull())]\n",
    "choices = [\n",
    "    (df['WindSpeed9am'] + df['WindSpeed3pm'])/2,\n",
    "    df.WindSpeed9am.fillna(df.WindSpeed3pm),\n",
    "    df.WindSpeed3pm.fillna(df.WindSpeed9am)]\n",
    "df['WindSpeed_Media'] = np.select(conditions, choices, default = None)"
   ]
  },
  {
   "cell_type": "code",
   "execution_count": 6,
   "metadata": {},
   "outputs": [],
   "source": [
    "# If statement ===============  Humidity_Media\n",
    "conditions = [\n",
    "    (df['Humidity9am'].notnull()) & (df['Humidity3pm'].notnull()),\n",
    "    (df['Humidity9am'].isnull()) & (df['Humidity3pm'].notnull()),\n",
    "    (df['Humidity9am'].notnull()) & (df['Humidity3pm'].isnull())]\n",
    "choices = [\n",
    "    (df['Humidity9am'] + df['Humidity3pm'])/2,\n",
    "    df.Humidity9am.fillna(df.Humidity3pm),\n",
    "    df.Humidity3pm.fillna(df.Humidity9am)]\n",
    "df['Humidity_Media'] = np.select(conditions, choices, default = None)"
   ]
  },
  {
   "cell_type": "code",
   "execution_count": 7,
   "metadata": {},
   "outputs": [],
   "source": [
    "# If statement ===============  Clouds_Media\n",
    "conditions = [\n",
    "    (df['Cloud9am'].notnull()) & (df['Cloud3pm'].notnull()),\n",
    "    (df['Cloud9am'].isnull()) & (df['Cloud3pm'].notnull()),\n",
    "    (df['Cloud9am'].notnull()) & (df['Cloud3pm'].isnull())]\n",
    "choices = [\n",
    "    (df['Cloud9am'] + df['Cloud3pm'])/2,\n",
    "    df.Cloud9am.fillna(df.Cloud3pm),\n",
    "    df.Cloud3pm.fillna(df.Cloud9am)]\n",
    "df['Cloud_Media'] = np.select(conditions, choices, default = None)"
   ]
  },
  {
   "cell_type": "code",
   "execution_count": 8,
   "metadata": {
    "scrolled": false
   },
   "outputs": [
    {
     "data": {
      "text/plain": [
       "Temp_Media         142193\n",
       "Pressure_Media     128402\n",
       "WindSpeed_Media    141312\n",
       "Humidity_Media     141095\n",
       "Cloud_Media         92516\n",
       "dtype: int64"
      ]
     },
     "execution_count": 8,
     "metadata": {},
     "output_type": "execute_result"
    }
   ],
   "source": [
    "# Resultado das Medias\n",
    "df[['Temp_Media','Pressure_Media','WindSpeed_Media','Humidity_Media','Cloud_Media']].count()"
   ]
  },
  {
   "cell_type": "code",
   "execution_count": 9,
   "metadata": {},
   "outputs": [],
   "source": [
    "# Remover Colunas passadas\n",
    "df.drop(['WindGustDir','WindDir9am','WindDir3pm','Temp3pm','Temp9am','RISK_MM','Location','Date','Pressure9am','Pressure3pm','Humidity9am','Humidity3pm','WindSpeed9am','WindSpeed3pm','Cloud3pm','Cloud9am'],axis =1, inplace = True)"
   ]
  },
  {
   "cell_type": "code",
   "execution_count": 10,
   "metadata": {},
   "outputs": [
    {
     "data": {
      "text/plain": [
       "MinTemp            141556\n",
       "MaxTemp            141871\n",
       "Rainfall           140787\n",
       "Evaporation         81350\n",
       "Sunshine            74377\n",
       "WindGustSpeed      132923\n",
       "RainToday          140787\n",
       "RainTomorrow       142193\n",
       "Temp_Media         142193\n",
       "Pressure_Media     128402\n",
       "WindSpeed_Media    141312\n",
       "Humidity_Media     141095\n",
       "Cloud_Media         92516\n",
       "dtype: int64"
      ]
     },
     "execution_count": 10,
     "metadata": {},
     "output_type": "execute_result"
    }
   ],
   "source": [
    "df.count()"
   ]
  },
  {
   "cell_type": "code",
   "execution_count": 11,
   "metadata": {},
   "outputs": [],
   "source": [
    "# Remover linhas com nulos\n",
    "df = df.dropna()"
   ]
  },
  {
   "cell_type": "code",
   "execution_count": 12,
   "metadata": {},
   "outputs": [],
   "source": [
    "# Exportar Dataframe para CSV\n",
    "df.to_csv('baseMedias.csv')"
   ]
  }
 ],
 "metadata": {
  "kernelspec": {
   "display_name": "Python 3",
   "language": "python",
   "name": "python3"
  },
  "language_info": {
   "codemirror_mode": {
    "name": "ipython",
    "version": 3
   },
   "file_extension": ".py",
   "mimetype": "text/x-python",
   "name": "python",
   "nbconvert_exporter": "python",
   "pygments_lexer": "ipython3",
   "version": "3.7.1"
  }
 },
 "nbformat": 4,
 "nbformat_minor": 2
}
