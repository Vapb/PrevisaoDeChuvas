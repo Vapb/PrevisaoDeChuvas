{
 "cells": [
  {
   "cell_type": "code",
   "execution_count": 1,
   "metadata": {},
   "outputs": [],
   "source": [
    "# Import Libs\n",
    "import numpy as np\n",
    "import pandas as pd\n",
    "from sklearn.model_selection import train_test_split\n",
    "from sklearn.neighbors import KNeighborsClassifier\n",
    "from sklearn.metrics import accuracy_score\n",
    "\n",
    "df = pd.read_csv('baseSemNulls.csv')"
   ]
  },
  {
   "cell_type": "code",
   "execution_count": 2,
   "metadata": {
    "scrolled": true
   },
   "outputs": [
    {
     "data": {
      "text/html": [
       "<div>\n",
       "<style scoped>\n",
       "    .dataframe tbody tr th:only-of-type {\n",
       "        vertical-align: middle;\n",
       "    }\n",
       "\n",
       "    .dataframe tbody tr th {\n",
       "        vertical-align: top;\n",
       "    }\n",
       "\n",
       "    .dataframe thead th {\n",
       "        text-align: right;\n",
       "    }\n",
       "</style>\n",
       "<table border=\"1\" class=\"dataframe\">\n",
       "  <thead>\n",
       "    <tr style=\"text-align: right;\">\n",
       "      <th></th>\n",
       "      <th>MinTemp</th>\n",
       "      <th>MaxTemp</th>\n",
       "      <th>Rainfall</th>\n",
       "      <th>Evaporation</th>\n",
       "      <th>Sunshine</th>\n",
       "      <th>WindGustSpeed</th>\n",
       "      <th>WindSpeed9am</th>\n",
       "      <th>WindSpeed3pm</th>\n",
       "      <th>Humidity9am</th>\n",
       "      <th>Humidity3pm</th>\n",
       "      <th>Pressure9am</th>\n",
       "      <th>Pressure3pm</th>\n",
       "      <th>Cloud9am</th>\n",
       "      <th>Cloud3pm</th>\n",
       "      <th>RainToday</th>\n",
       "      <th>RainTomorrow</th>\n",
       "    </tr>\n",
       "  </thead>\n",
       "  <tbody>\n",
       "    <tr>\n",
       "      <th>0</th>\n",
       "      <td>0.645669</td>\n",
       "      <td>0.706818</td>\n",
       "      <td>0.0</td>\n",
       "      <td>0.147783</td>\n",
       "      <td>0.848276</td>\n",
       "      <td>0.339130</td>\n",
       "      <td>0.089552</td>\n",
       "      <td>0.263158</td>\n",
       "      <td>0.20</td>\n",
       "      <td>0.13</td>\n",
       "      <td>0.430718</td>\n",
       "      <td>0.441748</td>\n",
       "      <td>0.250</td>\n",
       "      <td>0.555556</td>\n",
       "      <td>0.0</td>\n",
       "      <td>0.0</td>\n",
       "    </tr>\n",
       "    <tr>\n",
       "      <th>1</th>\n",
       "      <td>0.658793</td>\n",
       "      <td>0.563636</td>\n",
       "      <td>0.0</td>\n",
       "      <td>0.182266</td>\n",
       "      <td>0.896552</td>\n",
       "      <td>0.243478</td>\n",
       "      <td>0.283582</td>\n",
       "      <td>0.250000</td>\n",
       "      <td>0.30</td>\n",
       "      <td>0.08</td>\n",
       "      <td>0.540902</td>\n",
       "      <td>0.566343</td>\n",
       "      <td>0.125</td>\n",
       "      <td>0.111111</td>\n",
       "      <td>0.0</td>\n",
       "      <td>0.0</td>\n",
       "    </tr>\n",
       "    <tr>\n",
       "      <th>2</th>\n",
       "      <td>0.685039</td>\n",
       "      <td>0.761364</td>\n",
       "      <td>0.0</td>\n",
       "      <td>0.133005</td>\n",
       "      <td>0.731034</td>\n",
       "      <td>0.321739</td>\n",
       "      <td>0.447761</td>\n",
       "      <td>0.197368</td>\n",
       "      <td>0.42</td>\n",
       "      <td>0.22</td>\n",
       "      <td>0.530885</td>\n",
       "      <td>0.519417</td>\n",
       "      <td>0.125</td>\n",
       "      <td>0.666667</td>\n",
       "      <td>0.0</td>\n",
       "      <td>0.0</td>\n",
       "    </tr>\n",
       "    <tr>\n",
       "      <th>3</th>\n",
       "      <td>0.750656</td>\n",
       "      <td>0.779545</td>\n",
       "      <td>0.0</td>\n",
       "      <td>0.140394</td>\n",
       "      <td>0.841379</td>\n",
       "      <td>0.191304</td>\n",
       "      <td>0.089552</td>\n",
       "      <td>0.078947</td>\n",
       "      <td>0.37</td>\n",
       "      <td>0.22</td>\n",
       "      <td>0.537563</td>\n",
       "      <td>0.517799</td>\n",
       "      <td>0.125</td>\n",
       "      <td>0.555556</td>\n",
       "      <td>0.0</td>\n",
       "      <td>0.0</td>\n",
       "    </tr>\n",
       "    <tr>\n",
       "      <th>4</th>\n",
       "      <td>0.811024</td>\n",
       "      <td>0.838636</td>\n",
       "      <td>0.0</td>\n",
       "      <td>0.137931</td>\n",
       "      <td>0.579310</td>\n",
       "      <td>0.226087</td>\n",
       "      <td>0.253731</td>\n",
       "      <td>0.171053</td>\n",
       "      <td>0.19</td>\n",
       "      <td>0.15</td>\n",
       "      <td>0.504174</td>\n",
       "      <td>0.490291</td>\n",
       "      <td>0.125</td>\n",
       "      <td>0.666667</td>\n",
       "      <td>0.0</td>\n",
       "      <td>0.0</td>\n",
       "    </tr>\n",
       "  </tbody>\n",
       "</table>\n",
       "</div>"
      ],
      "text/plain": [
       "    MinTemp   MaxTemp  Rainfall  Evaporation  Sunshine  WindGustSpeed  \\\n",
       "0  0.645669  0.706818       0.0     0.147783  0.848276       0.339130   \n",
       "1  0.658793  0.563636       0.0     0.182266  0.896552       0.243478   \n",
       "2  0.685039  0.761364       0.0     0.133005  0.731034       0.321739   \n",
       "3  0.750656  0.779545       0.0     0.140394  0.841379       0.191304   \n",
       "4  0.811024  0.838636       0.0     0.137931  0.579310       0.226087   \n",
       "\n",
       "   WindSpeed9am  WindSpeed3pm  Humidity9am  Humidity3pm  Pressure9am  \\\n",
       "0      0.089552      0.263158         0.20         0.13     0.430718   \n",
       "1      0.283582      0.250000         0.30         0.08     0.540902   \n",
       "2      0.447761      0.197368         0.42         0.22     0.530885   \n",
       "3      0.089552      0.078947         0.37         0.22     0.537563   \n",
       "4      0.253731      0.171053         0.19         0.15     0.504174   \n",
       "\n",
       "   Pressure3pm  Cloud9am  Cloud3pm  RainToday  RainTomorrow  \n",
       "0     0.441748     0.250  0.555556        0.0           0.0  \n",
       "1     0.566343     0.125  0.111111        0.0           0.0  \n",
       "2     0.519417     0.125  0.666667        0.0           0.0  \n",
       "3     0.517799     0.125  0.555556        0.0           0.0  \n",
       "4     0.490291     0.125  0.666667        0.0           0.0  "
      ]
     },
     "execution_count": 2,
     "metadata": {},
     "output_type": "execute_result"
    }
   ],
   "source": [
    "# Normalizar Dados\n",
    "df = (df- df.min())/(df.max()-df.min())\n",
    "df.head()"
   ]
  },
  {
   "cell_type": "code",
   "execution_count": 3,
   "metadata": {},
   "outputs": [],
   "source": [
    "### Seperar Target e Source\n",
    "x = df.values[:,0:15]\n",
    "y = df.values[:,15]"
   ]
  },
  {
   "cell_type": "code",
   "execution_count": 4,
   "metadata": {},
   "outputs": [],
   "source": [
    "### Split the TEST_data and TRAIN_data\n",
    "x_train, x_test, y_train, y_test = train_test_split( x, y, test_size = 0.3, random_state= 100)"
   ]
  },
  {
   "cell_type": "code",
   "execution_count": 5,
   "metadata": {
    "scrolled": true
   },
   "outputs": [
    {
     "data": {
      "text/plain": [
       "KNeighborsClassifier(algorithm='auto', leaf_size=30, metric='minkowski',\n",
       "           metric_params=None, n_jobs=None, n_neighbors=25, p=2,\n",
       "           weights='uniform')"
      ]
     },
     "execution_count": 5,
     "metadata": {},
     "output_type": "execute_result"
    }
   ],
   "source": [
    "### KNN\n",
    "knn = KNeighborsClassifier(n_neighbors=25)\n",
    "knn.fit(x_train,y_train)"
   ]
  },
  {
   "cell_type": "code",
   "execution_count": 6,
   "metadata": {},
   "outputs": [
    {
     "name": "stdout",
     "output_type": "stream",
     "text": [
      "Precisão é  85.04619268950479\n"
     ]
    }
   ],
   "source": [
    "## Predict\n",
    "predict = knn.predict(x_test)\n",
    "print('Precisão é ',accuracy_score(y_test,predict)*100)"
   ]
  }
 ],
 "metadata": {
  "kernelspec": {
   "display_name": "Python 3",
   "language": "python",
   "name": "python3"
  },
  "language_info": {
   "codemirror_mode": {
    "name": "ipython",
    "version": 3
   },
   "file_extension": ".py",
   "mimetype": "text/x-python",
   "name": "python",
   "nbconvert_exporter": "python",
   "pygments_lexer": "ipython3",
   "version": "3.7.1"
  }
 },
 "nbformat": 4,
 "nbformat_minor": 2
}
