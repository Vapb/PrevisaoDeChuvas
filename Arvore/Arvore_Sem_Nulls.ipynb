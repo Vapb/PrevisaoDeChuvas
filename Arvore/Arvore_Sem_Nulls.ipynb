{
 "cells": [
  {
   "cell_type": "code",
   "execution_count": 1,
   "metadata": {},
   "outputs": [],
   "source": [
    "# Import Library / Read csv\n",
    "import numpy as np\n",
    "import seaborn as sns\n",
    "import pandas as pd\n",
    "import matplotlib.pyplot as plt\n",
    "from sklearn.model_selection import train_test_split\n",
    "from sklearn.model_selection import KFold\n",
    "from sklearn.metrics import confusion_matrix\n",
    "from sklearn.tree import DecisionTreeClassifier\n",
    "from sklearn.metrics import accuracy_score\n",
    "\n",
    "df = pd.read_csv('baseSemNulls.csv')"
   ]
  },
  {
   "cell_type": "code",
   "execution_count": 2,
   "metadata": {
    "scrolled": true
   },
   "outputs": [
    {
     "name": "stdout",
     "output_type": "stream",
     "text": [
      "INFO Dataset:  (58090, 16)\n"
     ]
    },
    {
     "data": {
      "text/html": [
       "<div>\n",
       "<style scoped>\n",
       "    .dataframe tbody tr th:only-of-type {\n",
       "        vertical-align: middle;\n",
       "    }\n",
       "\n",
       "    .dataframe tbody tr th {\n",
       "        vertical-align: top;\n",
       "    }\n",
       "\n",
       "    .dataframe thead th {\n",
       "        text-align: right;\n",
       "    }\n",
       "</style>\n",
       "<table border=\"1\" class=\"dataframe\">\n",
       "  <thead>\n",
       "    <tr style=\"text-align: right;\">\n",
       "      <th></th>\n",
       "      <th>MinTemp</th>\n",
       "      <th>MaxTemp</th>\n",
       "      <th>Rainfall</th>\n",
       "      <th>Evaporation</th>\n",
       "      <th>Sunshine</th>\n",
       "      <th>WindGustSpeed</th>\n",
       "      <th>WindSpeed9am</th>\n",
       "      <th>WindSpeed3pm</th>\n",
       "      <th>Humidity9am</th>\n",
       "      <th>Humidity3pm</th>\n",
       "      <th>Pressure9am</th>\n",
       "      <th>Pressure3pm</th>\n",
       "      <th>Cloud9am</th>\n",
       "      <th>Cloud3pm</th>\n",
       "      <th>RainToday</th>\n",
       "      <th>RainTomorrow</th>\n",
       "    </tr>\n",
       "  </thead>\n",
       "  <tbody>\n",
       "    <tr>\n",
       "      <th>0</th>\n",
       "      <td>0.645669</td>\n",
       "      <td>0.706818</td>\n",
       "      <td>0.0</td>\n",
       "      <td>0.147783</td>\n",
       "      <td>0.848276</td>\n",
       "      <td>0.339130</td>\n",
       "      <td>0.089552</td>\n",
       "      <td>0.263158</td>\n",
       "      <td>0.20</td>\n",
       "      <td>0.13</td>\n",
       "      <td>0.430718</td>\n",
       "      <td>0.441748</td>\n",
       "      <td>0.250</td>\n",
       "      <td>0.555556</td>\n",
       "      <td>0.0</td>\n",
       "      <td>0.0</td>\n",
       "    </tr>\n",
       "    <tr>\n",
       "      <th>1</th>\n",
       "      <td>0.658793</td>\n",
       "      <td>0.563636</td>\n",
       "      <td>0.0</td>\n",
       "      <td>0.182266</td>\n",
       "      <td>0.896552</td>\n",
       "      <td>0.243478</td>\n",
       "      <td>0.283582</td>\n",
       "      <td>0.250000</td>\n",
       "      <td>0.30</td>\n",
       "      <td>0.08</td>\n",
       "      <td>0.540902</td>\n",
       "      <td>0.566343</td>\n",
       "      <td>0.125</td>\n",
       "      <td>0.111111</td>\n",
       "      <td>0.0</td>\n",
       "      <td>0.0</td>\n",
       "    </tr>\n",
       "    <tr>\n",
       "      <th>2</th>\n",
       "      <td>0.685039</td>\n",
       "      <td>0.761364</td>\n",
       "      <td>0.0</td>\n",
       "      <td>0.133005</td>\n",
       "      <td>0.731034</td>\n",
       "      <td>0.321739</td>\n",
       "      <td>0.447761</td>\n",
       "      <td>0.197368</td>\n",
       "      <td>0.42</td>\n",
       "      <td>0.22</td>\n",
       "      <td>0.530885</td>\n",
       "      <td>0.519417</td>\n",
       "      <td>0.125</td>\n",
       "      <td>0.666667</td>\n",
       "      <td>0.0</td>\n",
       "      <td>0.0</td>\n",
       "    </tr>\n",
       "    <tr>\n",
       "      <th>3</th>\n",
       "      <td>0.750656</td>\n",
       "      <td>0.779545</td>\n",
       "      <td>0.0</td>\n",
       "      <td>0.140394</td>\n",
       "      <td>0.841379</td>\n",
       "      <td>0.191304</td>\n",
       "      <td>0.089552</td>\n",
       "      <td>0.078947</td>\n",
       "      <td>0.37</td>\n",
       "      <td>0.22</td>\n",
       "      <td>0.537563</td>\n",
       "      <td>0.517799</td>\n",
       "      <td>0.125</td>\n",
       "      <td>0.555556</td>\n",
       "      <td>0.0</td>\n",
       "      <td>0.0</td>\n",
       "    </tr>\n",
       "    <tr>\n",
       "      <th>4</th>\n",
       "      <td>0.811024</td>\n",
       "      <td>0.838636</td>\n",
       "      <td>0.0</td>\n",
       "      <td>0.137931</td>\n",
       "      <td>0.579310</td>\n",
       "      <td>0.226087</td>\n",
       "      <td>0.253731</td>\n",
       "      <td>0.171053</td>\n",
       "      <td>0.19</td>\n",
       "      <td>0.15</td>\n",
       "      <td>0.504174</td>\n",
       "      <td>0.490291</td>\n",
       "      <td>0.125</td>\n",
       "      <td>0.666667</td>\n",
       "      <td>0.0</td>\n",
       "      <td>0.0</td>\n",
       "    </tr>\n",
       "  </tbody>\n",
       "</table>\n",
       "</div>"
      ],
      "text/plain": [
       "    MinTemp   MaxTemp  Rainfall  Evaporation  Sunshine  WindGustSpeed  \\\n",
       "0  0.645669  0.706818       0.0     0.147783  0.848276       0.339130   \n",
       "1  0.658793  0.563636       0.0     0.182266  0.896552       0.243478   \n",
       "2  0.685039  0.761364       0.0     0.133005  0.731034       0.321739   \n",
       "3  0.750656  0.779545       0.0     0.140394  0.841379       0.191304   \n",
       "4  0.811024  0.838636       0.0     0.137931  0.579310       0.226087   \n",
       "\n",
       "   WindSpeed9am  WindSpeed3pm  Humidity9am  Humidity3pm  Pressure9am  \\\n",
       "0      0.089552      0.263158         0.20         0.13     0.430718   \n",
       "1      0.283582      0.250000         0.30         0.08     0.540902   \n",
       "2      0.447761      0.197368         0.42         0.22     0.530885   \n",
       "3      0.089552      0.078947         0.37         0.22     0.537563   \n",
       "4      0.253731      0.171053         0.19         0.15     0.504174   \n",
       "\n",
       "   Pressure3pm  Cloud9am  Cloud3pm  RainToday  RainTomorrow  \n",
       "0     0.441748     0.250  0.555556        0.0           0.0  \n",
       "1     0.566343     0.125  0.111111        0.0           0.0  \n",
       "2     0.519417     0.125  0.666667        0.0           0.0  \n",
       "3     0.517799     0.125  0.555556        0.0           0.0  \n",
       "4     0.490291     0.125  0.666667        0.0           0.0  "
      ]
     },
     "execution_count": 2,
     "metadata": {},
     "output_type": "execute_result"
    }
   ],
   "source": [
    "print(\"INFO Dataset: \", df.shape)\n",
    "df.head()"
   ]
  },
  {
   "cell_type": "code",
   "execution_count": 3,
   "metadata": {},
   "outputs": [],
   "source": [
    "### Seperar Target e Source\n",
    "x = df.values[:,0:15]\n",
    "y = df.values[:,15]"
   ]
  },
  {
   "cell_type": "code",
   "execution_count": 4,
   "metadata": {},
   "outputs": [],
   "source": [
    "### Split the TEST_data and TRAIN_data\n",
    "x_train, x_test, y_train, y_test = train_test_split( x, y, test_size = 0.3, random_state= 100)"
   ]
  },
  {
   "cell_type": "code",
   "execution_count": 5,
   "metadata": {},
   "outputs": [],
   "source": [
    "# Decision Tree\n",
    "clf = DecisionTreeClassifier(max_leaf_nodes= 77)\n",
    "clf.fit(x_train,y_train)\n",
    "predict = clf.predict(x_test)   "
   ]
  },
  {
   "cell_type": "code",
   "execution_count": 6,
   "metadata": {
    "scrolled": true
   },
   "outputs": [
    {
     "name": "stdout",
     "output_type": "stream",
     "text": [
      "Precisão é  84.57565846100879\n"
     ]
    }
   ],
   "source": [
    "predict = clf.predict(x_test)\n",
    "print('Precisão é ',accuracy_score(y_test,predict)*100)"
   ]
  },
  {
   "cell_type": "code",
   "execution_count": 7,
   "metadata": {},
   "outputs": [
    {
     "data": {
      "image/png": "[encoded data removed]",
      "text/plain": [
       "<Figure size 288x288 with 2 Axes>"
      ]
     },
     "metadata": {
      "needs_background": "light"
     },
     "output_type": "display_data"
    }
   ],
   "source": [
    "# Matriz de Confusão\n",
    "cm = confusion_matrix(y_test,predict)\n",
    "\n",
    "cm_df = pd.DataFrame(cm,\n",
    "                     index = ['N_Choveu','Choveu'], \n",
    "                     columns = ['N_Vai_Chover','Vai_Chover'])\n",
    "\n",
    "\n",
    "f, ax = plt.subplots(figsize = (4,4))\n",
    "sns.heatmap(cm_df,annot=True,linecolor=\"blue\",fmt=\".0f\",ax=ax)\n",
    "plt.xlabel(\"Predictions\")\n",
    "plt.ylabel(\"Test Values\")\n",
    "plt.show()\n"
   ]
  },
  {
   "cell_type": "code",
   "execution_count": 8,
   "metadata": {},
   "outputs": [],
   "source": [
    "kf = KFold(n_splits=3)\n",
    "total = 0\n",
    "Arvlist = []\n",
    "for train_index , test_index in kf.split(df):\n",
    "    x_train, x_test, y_train , y_test = x[train_index], x[test_index] , y[train_index] , y[test_index]\n",
    "    \n",
    "    arv = DecisionTreeClassifier(max_leaf_nodes= 77)\n",
    "    arv.fit(x_train,y_train)\n",
    "    predict = arv.predict(x_test)\n",
    "    Arvlist.append(accuracy_score(y_test,predict)*100)\n",
    "    total = total + (accuracy_score(y_test,predict)*100)\n",
    "\n",
    "total = total / 3"
   ]
  },
  {
   "cell_type": "code",
   "execution_count": 9,
   "metadata": {},
   "outputs": [
    {
     "name": "stdout",
     "output_type": "stream",
     "text": [
      "VALORES KFOLD : [82.39516628795704, 83.24123327996695, 86.77374373805712]\n",
      "Precisão Media : 84.13671443532705\n"
     ]
    }
   ],
   "source": [
    "# KFold  Results\n",
    "print('VALORES KFOLD :' ,Arvlist)\n",
    "print('Precisão Media :', total)"
   ]
  },
  {
   "cell_type": "code",
   "execution_count": 10,
   "metadata": {
    "scrolled": false
   },
   "outputs": [],
   "source": [
    " ### Vizualizar a arvore ####\n",
    "\n",
    "atributos = ['MinTemp', 'MaxTemp', 'Rainfall', 'Evaporation', 'Sunshine',\n",
    "       'WindGustSpeed', 'WindSpeed9am', 'WindSpeed3pm', 'Humidity9am',\n",
    "       'Humidity3pm', 'Pressure9am', 'Pressure3pm', 'Cloud9am',\n",
    "       'Cloud3pm', 'RainToday']\n",
    "classes = ['N_Chuva','S_Chuva']\n",
    "\n",
    "from sklearn.externals.six import StringIO\n",
    "from sklearn import tree\n",
    "import pydot\n",
    "\n",
    "dot_data = StringIO()\n",
    "tree.export_graphviz(clf,\n",
    "                    out_file=dot_data,\n",
    "                    feature_names=atributos,\n",
    "                    class_names=classes,\n",
    "                    filled=True, rounded=True, impurity=False)\n",
    "\n",
    "graph = pydot.graph_from_dot_data(dot_data.getvalue())\n",
    "#graph[0].write_pdf(\"BestTree.pdf\")"
   ]
  }
 ],
 "metadata": {
  "kernelspec": {
   "display_name": "Python 3",
   "language": "python",
   "name": "python3"
  },
  "language_info": {
   "codemirror_mode": {
    "name": "ipython",
    "version": 3
   },
   "file_extension": ".py",
   "mimetype": "text/x-python",
   "name": "python",
   "nbconvert_exporter": "python",
   "pygments_lexer": "ipython3",
   "version": "3.7.1"
  }
 },
 "nbformat": 4,
 "nbformat_minor": 2
}
