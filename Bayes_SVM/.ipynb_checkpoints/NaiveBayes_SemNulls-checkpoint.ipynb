{
 "cells": [
  {
   "cell_type": "code",
   "execution_count": 2,
   "metadata": {},
   "outputs": [],
   "source": [
    "# Imports\n",
    "import numpy as np\n",
    "import pandas as pd\n",
    "import seaborn as sns\n",
    "import matplotlib.pyplot as plt\n",
    "from sklearn.naive_bayes import GaussianNB\n",
    "from sklearn.model_selection import train_test_split\n",
    "from sklearn.metrics import accuracy_score\n",
    "from sklearn.metrics import confusion_matrix\n",
    "\n",
    "df = pd.read_csv('baseSemNulls.csv')"
   ]
  },
  {
   "cell_type": "code",
   "execution_count": 3,
   "metadata": {},
   "outputs": [
    {
     "name": "stdout",
     "output_type": "stream",
     "text": [
      "INFO Dataset:  (58090, 17)\n"
     ]
    }
   ],
   "source": [
    "print(\"INFO Dataset: \", df.shape)"
   ]
  },
  {
   "cell_type": "code",
   "execution_count": 4,
   "metadata": {},
   "outputs": [],
   "source": [
    "### Seperar Target e Source\n",
    "x = df.values[:,0:15]\n",
    "y = df.values[:,15]"
   ]
  },
  {
   "cell_type": "code",
   "execution_count": 5,
   "metadata": {},
   "outputs": [],
   "source": [
    "### Split the TEST_data and TRAIN_data\n",
    "x_train, x_test, y_train, y_test = train_test_split( x, y, test_size = 0.3, random_state= 100)"
   ]
  },
  {
   "cell_type": "code",
   "execution_count": 6,
   "metadata": {},
   "outputs": [
    {
     "data": {
      "text/plain": [
       "GaussianNB(priors=None, var_smoothing=1e-09)"
      ]
     },
     "execution_count": 6,
     "metadata": {},
     "output_type": "execute_result"
    }
   ],
   "source": [
    "## Classifier\n",
    "nb = GaussianNB()\n",
    "nb.fit(x_train,y_train)"
   ]
  },
  {
   "cell_type": "code",
   "execution_count": 7,
   "metadata": {
    "scrolled": true
   },
   "outputs": [],
   "source": [
    "# Predicting \n",
    "predict = nb.predict(x_test)"
   ]
  },
  {
   "cell_type": "code",
   "execution_count": 8,
   "metadata": {},
   "outputs": [],
   "source": [
    "# Score\n",
    "Score = accuracy_score(y_test,predict)*100"
   ]
  },
  {
   "cell_type": "code",
   "execution_count": 9,
   "metadata": {},
   "outputs": [
    {
     "data": {
      "image/png": "[encoded data removed]",
      "text/plain": [
       "<Figure size 288x288 with 2 Axes>"
      ]
     },
     "metadata": {
      "needs_background": "light"
     },
     "output_type": "display_data"
    }
   ],
   "source": [
    "cm = confusion_matrix(y_test,predict)\n",
    "\n",
    "cm_df = pd.DataFrame(cm,\n",
    "                     index = ['N_Choveu','Choveu'], \n",
    "                     columns = ['N_Vai_Chover','Vai_Chover'])\n",
    "\n",
    "\n",
    "f, ax = plt.subplots(figsize = (4,4))\n",
    "sns.heatmap(cm_df,annot=True,linecolor=\"blue\",fmt=\".0f\",ax=ax)\n",
    "plt.xlabel(\"Predictions\")\n",
    "plt.ylabel(\"Test Values\")\n",
    "plt.show()"
   ]
  },
  {
   "cell_type": "code",
   "execution_count": 10,
   "metadata": {},
   "outputs": [
    {
     "name": "stdout",
     "output_type": "stream",
     "text": [
      "A precisão de Naive Bayes é 90.11878120158376%\n"
     ]
    }
   ],
   "source": [
    "print(\"A precisão de Naive Bayes é \" + str(Score) + \"%\")"
   ]
  },
  {
   "cell_type": "code",
   "execution_count": 17,
   "metadata": {},
   "outputs": [],
   "source": [
    "#Kfold Attempt\n",
    "from sklearn.model_selection import KFold\n",
    "kf = KFold(n_splits=4)"
   ]
  },
  {
   "cell_type": "code",
   "execution_count": 23,
   "metadata": {},
   "outputs": [],
   "source": [
    "total = 0\n",
    "NBlist = []\n",
    "for train_index , test_index in kf.split(df):\n",
    "    x_train, x_test, y_train , y_test = x[train_index], x[test_index] , y[train_index] , y[test_index]\n",
    "    \n",
    "    nb = GaussianNB()\n",
    "    nb.fit(x_train,y_train)\n",
    "    predict = nb.predict(x_test)\n",
    "    NBlist.append(accuracy_score(y_test,predict)*100)\n",
    "    total = total + (accuracy_score(y_test,predict)*100)\n",
    "\n",
    "total = total / 4"
   ]
  },
  {
   "cell_type": "code",
   "execution_count": 31,
   "metadata": {},
   "outputs": [
    {
     "name": "stdout",
     "output_type": "stream",
     "text": [
      "VALORES KFOLD : [91.70970185223439, 83.57088755766715, 90.28370747830877, 95.0695496488087]\n",
      "Precisão Media : 90.15846163425476\n"
     ]
    }
   ],
   "source": [
    "# KFold  Results\n",
    "print('VALORES KFOLD :' ,NBlist)\n",
    "print('Precisão Media :', total)"
   ]
  }
 ],
 "metadata": {
  "kernelspec": {
   "display_name": "Python 3",
   "language": "python",
   "name": "python3"
  },
  "language_info": {
   "codemirror_mode": {
    "name": "ipython",
    "version": 3
   },
   "file_extension": ".py",
   "mimetype": "text/x-python",
   "name": "python",
   "nbconvert_exporter": "python",
   "pygments_lexer": "ipython3",
   "version": "3.7.1"
  }
 },
 "nbformat": 4,
 "nbformat_minor": 2
}
